{
 "cells": [
  {
   "cell_type": "code",
   "execution_count": 18,
   "metadata": {},
   "outputs": [
    {
     "name": "stdout",
     "output_type": "stream",
     "text": [
      "Found 28 centroids in this slice\n",
      "Created image for slice\n",
      "0 [0, 600] [0, 500] [0, 16]\n",
      "Results uploaded to https://ndwebtools.neurodata.io/ndviz_url/cell_detection/cell_detection_4/\n",
      "\n",
      "\n",
      "Found 15 centroids in this slice\n",
      "Created image for slice\n",
      "0 [0, 600] [0, 500] [16, 32]\n",
      "Results uploaded to https://ndwebtools.neurodata.io/ndviz_url/cell_detection/cell_detection_4/\n",
      "\n",
      "\n",
      "Found 22 centroids in this slice\n",
      "Created image for slice\n",
      "0 [0, 600] [0, 500] [32, 48]\n",
      "Results uploaded to https://ndwebtools.neurodata.io/ndviz_url/cell_detection/cell_detection_4/\n",
      "\n",
      "\n",
      "Found 25 centroids in this slice\n",
      "Created image for slice\n",
      "0 [0, 600] [0, 500] [48, 64]\n",
      "Results uploaded to https://ndwebtools.neurodata.io/ndviz_url/cell_detection/cell_detection_4/\n",
      "\n",
      "\n",
      "Found 26 centroids in this slice\n",
      "Created image for slice\n",
      "0 [0, 600] [0, 500] [64, 80]\n",
      "Results uploaded to https://ndwebtools.neurodata.io/ndviz_url/cell_detection/cell_detection_4/\n",
      "\n",
      "\n",
      "Found 40 centroids in this slice\n",
      "Created image for slice\n",
      "0 [0, 600] [0, 500] [80, 96]\n",
      "Results uploaded to https://ndwebtools.neurodata.io/ndviz_url/cell_detection/cell_detection_4/\n",
      "\n",
      "\n",
      "Found 31 centroids in this slice\n",
      "Created image for slice\n",
      "0 [0, 600] [0, 500] [96, 100]\n",
      "Results uploaded to https://ndwebtools.neurodata.io/ndviz_url/cell_detection/cell_detection_4/\n",
      "\n",
      "\n"
     ]
    }
   ],
   "source": [
    "%reload_ext autoreload\n",
    "%autoreload 2\n",
    "\n",
    "from tifffile import imread, imsave\n",
    "import numpy as np\n",
    "import bloby.util as util\n",
    "from bloby.IngestTifStack import ConfigParams\n",
    "\n",
    "z_shape, y_shape, x_shape = [100, 500, 600]\n",
    "STEP = 16\n",
    "\n",
    "ingest_conf = {\n",
    "    'collection': 'cell_detection',\n",
    "    'experiment': 'cell_detection_4',\n",
    "    'channel': 'bloby_small_chunk',\n",
    "    'type': 'image',\n",
    "    'new_channel': True,\n",
    "    'source_channel': None,\n",
    "    'config': '../intern.cfg',\n",
    "    'y_range': [0, y_shape],\n",
    "    'x_range': [0, x_shape],\n",
    "    'chunk': True\n",
    "}\n",
    "\n",
    "\n",
    "centroids = util.get_list_from_csv('../data/s3617/prediction_csv/cell_detection_4.csv')\n",
    "\n",
    "for i, z_start in enumerate(range(0, z_shape, STEP)):\n",
    "    z_end = min(z_start + 16, z_shape)\n",
    "    \n",
    "    centroids_sub = [[pt[0]-z_start, pt[1], pt[2]] for pt in centroids if pt[0] in range(z_start, z_end)]\n",
    "    print('Found {} centroids in this slice'.format(len(centroids_sub)))\n",
    "    \n",
    "    img = np.zeros((z_end-z_start, y_shape, x_shape))\n",
    "    imsave('process_chunk.tiff', img.astype(np.uint16))\n",
    "    util.plot_csv_on_tif(centroids_sub, 'process_chunk.tiff', 'process_chunk.tiff')\n",
    "    print('Created image for slice')\n",
    "    \n",
    "    ingest_conf['new_channel'] = True if i == 0 else False\n",
    "    ingest_conf['z_range'] = [z_start, z_end]\n",
    "    ingest_conf['tif_stack'] = 'process_chunk.tiff'\n",
    "    params = ConfigParams(ingest_conf)\n",
    "    group_name = 'ndd17_claritrons'\n",
    "    ingest = IngestTifStack(params, verbose=2)\n",
    "    upload_link = ingest.start_upload(group_name=group_name)\n",
    "    print('Results uploaded to {}\\n\\n'.format(upload_link))\n"
   ]
  },
  {
   "cell_type": "code",
   "execution_count": null,
   "metadata": {
    "collapsed": true
   },
   "outputs": [],
   "source": []
  }
 ],
 "metadata": {
  "kernelspec": {
   "display_name": "Python [conda env:py36]",
   "language": "python",
   "name": "conda-env-py36-py"
  },
  "language_info": {
   "codemirror_mode": {
    "name": "ipython",
    "version": 3
   },
   "file_extension": ".py",
   "mimetype": "text/x-python",
   "name": "python",
   "nbconvert_exporter": "python",
   "pygments_lexer": "ipython3",
   "version": "3.6.2"
  }
 },
 "nbformat": 4,
 "nbformat_minor": 2
}
