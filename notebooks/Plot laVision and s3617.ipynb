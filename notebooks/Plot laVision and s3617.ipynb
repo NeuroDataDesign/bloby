{
 "cells": [
  {
   "cell_type": "code",
   "execution_count": 12,
   "metadata": {
    "collapsed": true
   },
   "outputs": [],
   "source": [
    "%reload_ext autoreload\n",
    "%autoreload 2\n",
    "\n",
    "from tifffile import imread, imsave\n",
    "import bloby.util as util\n",
    "import numpy as np\n",
    "\n",
    "# sv1 = util.get_list_from_csv('../data/laVision/lavision_control_1.csv')\n",
    "# sv2 = util.get_list_from_csv('../data/laVision/lavision_control_2.csv')\n",
    "# sv3 = util.get_list_from_csv('../data/laVision/lavision_control_3.csv')\n",
    "# sv4 = util.get_list_from_csv('../data/laVision/lavision_control_4.csv')\n",
    "\n",
    "z_start, z_end, y_start, y_end, x_start, x_end = [620, 720, 6300, 6800, 6900, 7400]\n",
    "\n",
    "# full_predictions = util.get_list_from_csv('s3617-predictions.csv')\n",
    "# sv = [sv for sv in full_predictions if (sv[0] >= z_start and sv[0] <= z_end) and (sv[1] >= y_start and sv[1] <= y_end) and (sv[2] >= x_start and sv[2] <= x_end)]\n",
    "# sv = [[pt[0]-z_start, pt[1]-y_start, pt[2]-x_start] for pt in sv]\n",
    "# tif_output_path = 's3617_small_marked.tiff'\n",
    "\n",
    "# img = imread('s3617_small.tiff')\n",
    "# util.plot_csv_on_rgb_tif(centroids=sv, reference_img_path='s3617_small.tiff', tif_output_path=tif_output_path, color=[65535, 0, 0])\n",
    "\n",
    "full_predictions = util.get_list_from_csv('../data/s3617/prediction_csv/cell_detection_0.csv')\n",
    "tif_output_path = 'cell_detection_0_marked.tiff'\n",
    "util.plot_csv_on_rgb_tif(centroids=full_predictions, reference_img_path='../data/s3617/tifs/cell_detection_0.tiff', tif_output_path=tif_output_path, color=[65535, 0, 0])\n",
    "\n",
    "ground_truth = util.get_list_from_csv('../data/s3617/annotations/cell_detection_0.csv')\n",
    "tif_output_path = 'cell_detection_0_marked.tiff'\n",
    "util.plot_csv_on_rgb_tif(centroids=ground_truth, reference_img_path=tif_output_path, tif_output_path=tif_output_path, color=[0, 65535, 0])\n"
   ]
  },
  {
   "cell_type": "code",
   "execution_count": null,
   "metadata": {
    "collapsed": true
   },
   "outputs": [],
   "source": []
  }
 ],
 "metadata": {
  "kernelspec": {
   "display_name": "Python (py36)",
   "language": "python",
   "name": "py36"
  },
  "language_info": {
   "codemirror_mode": {
    "name": "ipython",
    "version": 2
   },
   "file_extension": ".py",
   "mimetype": "text/x-python",
   "name": "python",
   "nbconvert_exporter": "python",
   "pygments_lexer": "ipython2",
   "version": "2.7.13"
  }
 },
 "nbformat": 4,
 "nbformat_minor": 2
}
