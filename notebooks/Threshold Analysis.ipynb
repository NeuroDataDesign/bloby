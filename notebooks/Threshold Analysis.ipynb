{
 "cells": [
  {
   "cell_type": "markdown",
   "metadata": {},
   "source": [
    "# Threshold & GMM Analysis"
   ]
  },
  {
   "cell_type": "code",
   "execution_count": 11,
   "metadata": {},
   "outputs": [
    {
     "name": "stdout",
     "output_type": "stream",
     "text": [
      "Precision: 0.144\n",
      "Recall: 0.15\n",
      "F-Measure: 0.14693877551020407\n",
      "\n",
      "\n"
     ]
    },
    {
     "data": {
      "text/plain": [
       "<matplotlib.figure.Figure at 0x1082cc940>"
      ]
     },
     "metadata": {},
     "output_type": "display_data"
    },
    {
     "data": {
      "image/png": "[encoded data removed]",
      "text/plain": [
       "<matplotlib.figure.Figure at 0x1102647b8>"
      ]
     },
     "metadata": {},
     "output_type": "display_data"
    },
    {
     "data": {
      "image/png": "[encoded data removed]",
      "text/plain": [
       "<matplotlib.figure.Figure at 0x1144f6ba8>"
      ]
     },
     "metadata": {},
     "output_type": "display_data"
    }
   ],
   "source": [
    "%reload_ext autoreload\n",
    "%autoreload 2\n",
    "from IPython.core.pylabtools import figsize\n",
    "figsize(6, 6)\n",
    "\n",
    "from tifffile import imread, imsave\n",
    "from bloby.BlobDetector import BlobDetector\n",
    "from bloby.BlobMetrics import BlobMetrics\n",
    "from sklearn.mixture import GaussianMixture\n",
    "import bloby.util as util\n",
    "import matplotlib.pyplot as plt\n",
    "import numpy as np\n",
    "from scipy.stats import norm\n",
    "from datetime import datetime\n",
    "from skimage import morphology, transform\n",
    "from skimage.filters import gaussian\n",
    "from skimage.feature import blob_log\n",
    "from datetime import datetime\n",
    "\n",
    "start = datetime.now()\n",
    "\n",
    "plt.set_cmap('gray')\n",
    "\n",
    "# source_dict = {\n",
    "#     'cell_detection_0': 'COLM',\n",
    "#     'cell_detection_1': 'COLM',\n",
    "#     'cell_detection_2': 'COLM',\n",
    "#     'cell_detection_3': 'COLM',\n",
    "#     'cell_detection_4': 'laVision',\n",
    "#     'cell_detection_5': 'laVision',\n",
    "#     'cell_detection_6': 'laVision',\n",
    "#     'cell_detection_7': 'laVision',\n",
    "#     'cell_detection_8': 'laVision',\n",
    "#     'cell_detection_9': 'laVision'\n",
    "# }\n",
    "\n",
    "# exp_name = 'cell_detection_0'\n",
    "\n",
    "# input_tif_path = '../data/s3617/tifs/{}.tiff'.format(exp_name)\n",
    "# output_csv_path = '../data/s3617/prediction_csv/{}.csv'.format(exp_name)\n",
    "# img = imread(input_tif_path)\n",
    "\n",
    "# ground_truth_path = '../data/s3617/annotations/{}.csv'.format(exp_name)\n",
    "# ground_truth = util.get_list_from_csv(ground_truth_path)\n",
    "\n",
    "# detector = BlobDetector(input_tif_path, data_source=source_dict[exp_name], verbose=True)\n",
    "# centroids = np.asarray(detector.get_blob_centroids())\n",
    "centroids = util.get_list_from_csv('../../nd-multicore/process_folder/final.csv')\n",
    "# util.write_list_to_csv(centroids, output_csv_path)\n",
    "# util.plot_csv_on_rgb_tif(ground_truth, input_tif_path, 'marked_final.tiff', color=[0, img.max(), 0])\n",
    "# util.plot_csv_on_rgb_tif(centroids, 'marked_final.tiff', 'marked_final.tiff', color=[img.max(), 0, 0])\n",
    "\n",
    "# print('detector threshold', detector.threshold)\n",
    "\n",
    "metrics = BlobMetrics(ground_truth, centroids)\n",
    "print('Precision: {}\\nRecall: {}\\nF-Measure: {}\\n\\n'.format(metrics.precision(), metrics.recall(), metrics.f_measure()))\n",
    "metrics.plot_ground_truths_per_prediction()\n",
    "metrics.plot_predictions_per_ground_truth()\n"
   ]
  },
  {
   "cell_type": "code",
   "execution_count": null,
   "metadata": {
    "collapsed": true
   },
   "outputs": [],
   "source": []
  }
 ],
 "metadata": {
  "kernelspec": {
   "display_name": "Python [conda env:py36]",
   "language": "python",
   "name": "conda-env-py36-py"
  },
  "language_info": {
   "codemirror_mode": {
    "name": "ipython",
    "version": 3
   },
   "file_extension": ".py",
   "mimetype": "text/x-python",
   "name": "python",
   "nbconvert_exporter": "python",
   "pygments_lexer": "ipython3",
   "version": "3.6.2"
  }
 },
 "nbformat": 4,
 "nbformat_minor": 2
}
