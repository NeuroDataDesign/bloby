{
 "cells": [
  {
   "cell_type": "markdown",
   "metadata": {},
   "source": [
    "# Threshold & GMM Analysis"
   ]
  },
  {
   "cell_type": "code",
   "execution_count": 360,
   "metadata": {},
   "outputs": [
    {
     "name": "stdout",
     "output_type": "stream",
     "text": [
      "Initialization 0\n",
      "  Iteration 0\t time lapse 4.49152s\t ll change inf\n",
      "  Iteration 10\t time lapse 6.75594s\t ll change 0.00324\n",
      "  Iteration 20\t time lapse 6.68281s\t ll change 0.01109\n",
      "Initialization converged: True\t time lapse 19.25144s\t ll -8.84186\n",
      "detector threshold 14750.5\n",
      "Precision: 0.823\n",
      "Recall: 0.675\n",
      "F-Measure: 0.7416889185580775\n",
      "\n",
      "\n"
     ]
    }
   ],
   "source": [
    "%reload_ext autoreload\n",
    "%autoreload 2\n",
    "from IPython.core.pylabtools import figsize\n",
    "figsize(9, 9)\n",
    "\n",
    "from tifffile import imread, imsave\n",
    "from BlobDetector import BlobDetector\n",
    "from BlobMetrics import BlobMetrics\n",
    "from sklearn.mixture import GaussianMixture\n",
    "import util\n",
    "import matplotlib.pyplot as plt\n",
    "import numpy as np\n",
    "from scipy.stats import norm\n",
    "from datetime import datetime\n",
    "from skimage import morphology, transform\n",
    "from skimage.filters import gaussian\n",
    "from skimage.feature import blob_log\n",
    "\n",
    "plt.set_cmap('gray')\n",
    "        \n",
    "component_dict = {\n",
    "    'cell_detection_0': 4,\n",
    "    'cell_detection_1': 4,\n",
    "    'cell_detection_2': 4,\n",
    "    'cell_detection_3': 4,\n",
    "    'cell_detection_4': 8,\n",
    "    'cell_detection_5': 4,\n",
    "    'cell_detection_6': 4,\n",
    "    'cell_detection_7': 4,\n",
    "    'cell_detection_8': 3,\n",
    "    'cell_detection_9': 3\n",
    "}\n",
    "\n",
    "source_dict = {\n",
    "    'cell_detection_0': 'COLM',\n",
    "    'cell_detection_1': 'COLM',\n",
    "    'cell_detection_2': 'COLM',\n",
    "    'cell_detection_3': 'COLM',\n",
    "    'cell_detection_4': 'laVision',\n",
    "    'cell_detection_5': 'laVision',\n",
    "    'cell_detection_6': 'laVision',\n",
    "    'cell_detection_7': 'laVision',\n",
    "    'cell_detection_8': 'laVision',\n",
    "    'cell_detection_9': 'laVision'\n",
    "}\n",
    "\n",
    "exp_name = 'cell_detection_8'\n",
    "\n",
    "input_tif_path = '../data/s3617/tifs/{}.tiff'.format(exp_name)\n",
    "output_csv_path = '../data/s3617/prediction_csv/{}.csv'.format(exp_name)\n",
    "img = imread(input_tif_path)\n",
    "\n",
    "shape_z, shape_y, shape_x = re_img.shape\n",
    "\n",
    "ground_truth_path = '../data/s3617/annotations/{}.csv'.format(exp_name)\n",
    "ground_truth = util.get_list_from_csv(ground_truth_path)\n",
    "\n",
    "detector = BlobDetector(input_tif_path, n_components=component_dict[exp_name], data_source=source_dict[exp_name])\n",
    "centroids = np.asarray(detector.get_blob_centroids())\n",
    "util.write_list_to_csv(centroids, output_csv_path)\n",
    "\n",
    "print('detector threshold', detector.threshold)\n",
    "\n",
    "metrics = BlobMetrics(ground_truth, centroids)\n",
    "print('Precision: {}\\nRecall: {}\\nF-Measure: {}\\n\\n'.format(metrics.precision(), metrics.recall(), metrics.f_measure()))"
   ]
  },
  {
   "cell_type": "code",
   "execution_count": null,
   "metadata": {
    "collapsed": true
   },
   "outputs": [],
   "source": []
  }
 ],
 "metadata": {
  "kernelspec": {
   "display_name": "Python [conda env:py36]",
   "language": "python",
   "name": "conda-env-py36-py"
  },
  "language_info": {
   "codemirror_mode": {
    "name": "ipython",
    "version": 3
   },
   "file_extension": ".py",
   "mimetype": "text/x-python",
   "name": "python",
   "nbconvert_exporter": "python",
   "pygments_lexer": "ipython3",
   "version": "3.6.2"
  }
 },
 "nbformat": 4,
 "nbformat_minor": 2
}
