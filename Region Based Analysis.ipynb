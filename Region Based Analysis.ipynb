{
 "cells": [
  {
   "cell_type": "markdown",
   "metadata": {},
   "source": [
    "# Region Based Analysis"
   ]
  },
  {
   "cell_type": "markdown",
   "metadata": {},
   "source": [
    "This notebook shows the usage of _BlobMetrics_ class to do region based cell count"
   ]
  },
  {
   "cell_type": "markdown",
   "metadata": {},
   "source": [
    "Package import"
   ]
  },
  {
   "cell_type": "code",
   "execution_count": 1,
   "metadata": {},
   "outputs": [],
   "source": [
    "from tifffile import imread, imsave\n",
    "import numpy as np\n",
    "from src.BlobDetector import BlobDetector\n",
    "from src.BlobMetrics import BlobMetrics"
   ]
  },
  {
   "cell_type": "markdown",
   "metadata": {},
   "source": [
    "The first step would be to give the raw brain image to the _BlobDetector_ package to get the centroids"
   ]
  },
  {
   "cell_type": "code",
   "execution_count": 2,
   "metadata": {
    "collapsed": true
   },
   "outputs": [],
   "source": [
    "raw_img_path = 'data/region/reg_raw.tiff'\n",
    "detector = BlobDetector(raw_img_path, n_components=3)\n",
    "centroids = detector.get_blob_centroids()"
   ]
  },
  {
   "cell_type": "markdown",
   "metadata": {},
   "source": [
    "Next we want to do the region based analysis. For this two files are needed\n",
    "* Registered atlast image of the brain which has the region numbers as its intensity value\n",
    "* Ontology JSON which has the region number to name mapping"
   ]
  },
  {
   "cell_type": "code",
   "execution_count": 3,
   "metadata": {},
   "outputs": [
    {
     "name": "stderr",
     "output_type": "stream",
     "text": [
      "Processing region 32767: 100%|██████████| 595/595 [00:34<00:00, 17.00it/s]\n",
      "Processing centroid [153.0, 160.0, 152.0]: 100%|██████████| 81/81 [00:00<00:00, 576.42it/s]"
     ]
    },
    {
     "name": "stdout",
     "output_type": "stream",
     "text": [
      "{'Primary somatosensory area, nose, layer 6a': 1, 'Supplemental somatosensory area, layer 6a': 1, 'Primary somatosensory area, barrel field, layer 6a': 3, 'Primary somatosensory area, upper limb, layer 2/3': 3, 'Primary somatosensory area, upper limb, layer 4': 1, 'background': 4, 'internal capsule': 1, 'Superior colliculus, motor related, intermediate gray layer': 3, 'Lateral posterior nucleus of the thalamus': 1, 'Striatum': 1, 'Suprageniculate nucleus': 1, 'Caudoputamen': 23, 'Supplemental somatosensory area, layer 5': 6, 'Orbital area, lateral part, layer 6a': 1, 'Gustatory areas, layer 6a': 3, 'Globus pallidus, external segment': 4, 'Basolateral amygdalar nucleus, anterior part': 3, 'Pallidum': 1, 'Supramammillary nucleus': 2, 'Endopiriform nucleus, dorsal part': 2, 'external capsule': 1, 'Lateral hypothalamic area': 4, 'Hypothalamus': 6, 'Paraventricular hypothalamic nucleus': 1, 'Posterior hypothalamic nucleus': 3, 'columns of the fornix': 1}\n"
     ]
    },
    {
     "name": "stderr",
     "output_type": "stream",
     "text": [
      "\n"
     ]
    }
   ],
   "source": [
    "reg_img_path = 'data/region/reg_atlas.tiff'\n",
    "ontology_json_path = 'data/region/ara_structure_ontology.json'\n",
    "\n",
    "metrics = BlobMetrics([], centroids, 12)\n",
    "region_stats = metrics.get_region_based_count(ontology_json_path, reg_img_path)\n",
    "print(region_stats)"
   ]
  },
  {
   "cell_type": "markdown",
   "metadata": {},
   "source": [
    "The `region_stats` variable has the region name along with the number of cells in that region. Now let's visualize the results"
   ]
  },
  {
   "cell_type": "code",
   "execution_count": 4,
   "metadata": {},
   "outputs": [
    {
     "data": {
      "image/png": "[encoded data removed]",
      "text/plain": [
       "<matplotlib.figure.Figure at 0x105f8d6d8>"
      ]
     },
     "metadata": {},
     "output_type": "display_data"
    }
   ],
   "source": [
    "metrics.plot_region_based_count(region_stats)"
   ]
  },
  {
   "cell_type": "code",
   "execution_count": null,
   "metadata": {
    "collapsed": true
   },
   "outputs": [],
   "source": []
  }
 ],
 "metadata": {
  "kernelspec": {
   "display_name": "Python [conda env:py36]",
   "language": "python",
   "name": "conda-env-py36-py"
  },
  "language_info": {
   "codemirror_mode": {
    "name": "ipython",
    "version": 3
   },
   "file_extension": ".py",
   "mimetype": "text/x-python",
   "name": "python",
   "nbconvert_exporter": "python",
   "pygments_lexer": "ipython3",
   "version": "3.6.2"
  }
 },
 "nbformat": 4,
 "nbformat_minor": 2
}
