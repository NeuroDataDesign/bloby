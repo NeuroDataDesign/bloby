{
 "cells": [
  {
   "cell_type": "markdown",
   "metadata": {},
   "source": [
    "# Region Based Analysis"
   ]
  },
  {
   "cell_type": "code",
   "execution_count": 1,
   "metadata": {},
   "outputs": [
    {
     "name": "stderr",
     "output_type": "stream",
     "text": [
      "Processing region 32767: 100%|██████████| 595/595 [00:35<00:00, 16.97it/s]\n",
      "Processing centroid [176.0, 192.0, 135.0]: 100%|██████████| 401/401 [00:06<00:00, 63.64it/s]\n"
     ]
    },
    {
     "name": "stdout",
     "output_type": "stream",
     "text": [
      "{'Medial habenula': 1, 'Lobule III': 1}\n"
     ]
    }
   ],
   "source": [
    "from tifffile import imread, imsave\n",
    "import numpy as np\n",
    "import matplotlib.pyplot as plt\n",
    "from src.BlobDetector import BlobDetector\n",
    "from src.BlobMetrics import BlobMetrics\n",
    "\n",
    "detector = BlobDetector('data/region/reg.tiff', n_components=3)\n",
    "centroids = detector.get_blob_centroids()\n",
    "\n",
    "metrics = BlobMetrics([], centroids, 12)\n",
    "\n",
    "reg_img = imread('data/region/reg.tiff')\n",
    "\n",
    "region_stats = metrics.get_region_based_count('data/region/ara_structure_ontology.json', 'data/region/reg.tiff')\n",
    "\n",
    "print(region_stats)\n"
   ]
  },
  {
   "cell_type": "code",
   "execution_count": null,
   "metadata": {
    "collapsed": true
   },
   "outputs": [],
   "source": []
  }
 ],
 "metadata": {
  "kernelspec": {
   "display_name": "Python [conda env:py36]",
   "language": "python",
   "name": "conda-env-py36-py"
  },
  "language_info": {
   "codemirror_mode": {
    "name": "ipython",
    "version": 3
   },
   "file_extension": ".py",
   "mimetype": "text/x-python",
   "name": "python",
   "nbconvert_exporter": "python",
   "pygments_lexer": "ipython3",
   "version": "3.6.2"
  }
 },
 "nbformat": 4,
 "nbformat_minor": 2
}
