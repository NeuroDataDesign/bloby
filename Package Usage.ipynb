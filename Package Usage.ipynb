{
 "cells": [
  {
   "cell_type": "markdown",
   "metadata": {},
   "source": [
    "# Bloby Usage Example"
   ]
  },
  {
   "cell_type": "markdown",
   "metadata": {},
   "source": [
    "Bloby is an end-to-end package\n",
    "\n",
    "* detect blobs from a 3D TIF stack\n",
    "* quantitatively evaluate detection results and \n",
    "* upload the results to BOSS for qualitative visualization\n",
    "\n",
    "This Jupyter Notebook will explain how to use each section of this package's pipeline."
   ]
  },
  {
   "cell_type": "markdown",
   "metadata": {},
   "source": [
    "## 1. Blob Detection"
   ]
  },
  {
   "cell_type": "markdown",
   "metadata": {},
   "source": [
    "The blob detection part of the pipeline uses Gaussian Mixture Model (GMM) clustering for thresholding, followed by morphological erosion and then finally finds centroids using connected components. The below snippet shows how to instantiate the _Bloby_ class and find blobs from a TIF stack. \n",
    "\n",
    "**Note**: Initial current implementation of the package asks the user for the number of components for GMM."
   ]
  },
  {
   "cell_type": "code",
   "execution_count": 1,
   "metadata": {
    "collapsed": true
   },
   "outputs": [],
   "source": [
    "from src.BlobDetector import BlobDetector\n",
    "from src import util\n",
    "\n",
    "exp_name = 'cell_detection_6'\n",
    "input_tif_path = 'data/s3617/tifs/{}.tiff'.format(exp_name)\n",
    "output_csv_path = 'data/s3617/prediction_csv/{}.csv'.format(exp_name)\n",
    "\n",
    "detector = BlobDetector(input_tif_path, n_components=3)\n",
    "centroids = detector.get_blob_centroids()\n",
    "util.write_list_to_csv(centroids, output_csv_path) #writing the detection output to CSV in (z,y,x) format"
   ]
  },
  {
   "cell_type": "markdown",
   "metadata": {},
   "source": [
    "### Viewing the output CSV"
   ]
  },
  {
   "cell_type": "code",
   "execution_count": 2,
   "metadata": {},
   "outputs": [
    {
     "name": "stdout",
     "output_type": "stream",
     "text": [
      "[5.0, 174.0, 347.0]\n",
      "[2.0, 189.0, 280.0]\n",
      "[4.0, 198.0, 392.0]\n",
      "[2.0, 205.0, 342.0]\n",
      "[4.0, 216.0, 343.0]\n",
      "...\n"
     ]
    }
   ],
   "source": [
    "centroid_list = util.get_list_from_csv(output_csv_path)\n",
    "for centroid in centroid_list[:5]: #sample rows\n",
    "    print(centroid)\n",
    "print('...')"
   ]
  },
  {
   "cell_type": "markdown",
   "metadata": {},
   "source": [
    "## 2. Quantitative Evaluation - _BlobMetrics_ class"
   ]
  },
  {
   "cell_type": "markdown",
   "metadata": {},
   "source": [
    "The _BlobMetrics_ class which is a part of this package, can be used to evaluate Quantitatively the blob detection results, given a manually annotated ground truth CSV."
   ]
  },
  {
   "cell_type": "code",
   "execution_count": 3,
   "metadata": {},
   "outputs": [
    {
     "name": "stdout",
     "output_type": "stream",
     "text": [
      "Precision: 0.092\n",
      "Recall: 0.093\n"
     ]
    }
   ],
   "source": [
    "from src.BlobMetrics import BlobMetrics\n",
    "\n",
    "ground_truth_path = 'data/s3617/annotations/{}.csv'.format(exp_name)\n",
    "ground_truth = util.get_list_from_csv(ground_truth_path)\n",
    "\n",
    "metrics = BlobMetrics(ground_truth, centroids, euclidean_distance_threshold=12)\n",
    "print('Precision: {}\\nRecall: {}'.format(metrics.precision(), metrics.recall()))"
   ]
  },
  {
   "cell_type": "markdown",
   "metadata": {},
   "source": [
    "Apart from numerical metrics, we can evaluate the prediction based on the following two plots"
   ]
  },
  {
   "cell_type": "markdown",
   "metadata": {},
   "source": [
    "### Number of predictions per ground truth label"
   ]
  },
  {
   "cell_type": "code",
   "execution_count": 4,
   "metadata": {},
   "outputs": [
    {
     "data": {
      "image/png": "[encoded data removed]",
      "text/plain": [
       "<matplotlib.figure.Figure at 0x11401a1d0>"
      ]
     },
     "metadata": {},
     "output_type": "display_data"
    }
   ],
   "source": [
    "metrics.plot_predictions_per_ground_truth()"
   ]
  },
  {
   "cell_type": "markdown",
   "metadata": {},
   "source": [
    "### Number of ground truth labels per prediction"
   ]
  },
  {
   "cell_type": "code",
   "execution_count": 5,
   "metadata": {},
   "outputs": [
    {
     "data": {
      "image/png": "[encoded data removed]",
      "text/plain": [
       "<matplotlib.figure.Figure at 0x118abee48>"
      ]
     },
     "metadata": {},
     "output_type": "display_data"
    }
   ],
   "source": [
    "metrics.plot_ground_truths_per_prediction()"
   ]
  },
  {
   "cell_type": "markdown",
   "metadata": {},
   "source": [
    "## 3. Qualitative evaluation - BOSS Upload"
   ]
  },
  {
   "cell_type": "markdown",
   "metadata": {},
   "source": [
    "In order to visualize the prediction results, the package supports BOSS upload"
   ]
  },
  {
   "cell_type": "markdown",
   "metadata": {},
   "source": [
    "**Step 1**: First we need to plot the prediction results in an empty TIF stack"
   ]
  },
  {
   "cell_type": "code",
   "execution_count": 6,
   "metadata": {
    "collapsed": true
   },
   "outputs": [],
   "source": [
    "output_tif_path = 'data/s3617/prediction_tifs/{}.tiff'.format(exp_name)\n",
    "util.plot_csv_on_tif(centroids, input_tif_path, output_tif_path)"
   ]
  },
  {
   "cell_type": "markdown",
   "metadata": {},
   "source": [
    "**Step 2**: Create config params - The BOSS upload needs certain parameters to be configured. It can be done as follows. _intern.cfg_ should be in the following format\n",
    "\n",
    "```\n",
    "protocol = https\n",
    "host = api.boss.neurodata.io\n",
    "token = <your_boss_api_token>\n",
    "```"
   ]
  },
  {
   "cell_type": "code",
   "execution_count": 7,
   "metadata": {},
   "outputs": [
    {
     "ename": "TabError",
     "evalue": "inconsistent use of tabs and spaces in indentation (IngestTifStack.py, line 68)",
     "output_type": "error",
     "traceback": [
      "Traceback \u001b[0;36m(most recent call last)\u001b[0m:\n",
      "  File \u001b[1;32m\"/Users/srivathsa/anaconda/envs/py36/lib/python3.6/site-packages/IPython/core/interactiveshell.py\"\u001b[0m, line \u001b[1;32m2862\u001b[0m, in \u001b[1;35mrun_code\u001b[0m\n    exec(code_obj, self.user_global_ns, self.user_ns)\n",
      "\u001b[0;36m  File \u001b[0;32m\"<ipython-input-7-1977695dbfc8>\"\u001b[0;36m, line \u001b[0;32m1\u001b[0;36m, in \u001b[0;35m<module>\u001b[0;36m\u001b[0m\n\u001b[0;31m    from src.IngestTifStack import ConfigParams\u001b[0m\n",
      "\u001b[0;36m  File \u001b[0;32m\"/Users/srivathsa/projects/bloby/src/IngestTifStack.py\"\u001b[0;36m, line \u001b[0;32m68\u001b[0m\n\u001b[0;31m    url = 'https://ndwebtools.neurodata.io/ndviz_url/{}/{}/'.format(coll_name, exp_name)\u001b[0m\n\u001b[0m                                                                                        ^\u001b[0m\n\u001b[0;31mTabError\u001b[0m\u001b[0;31m:\u001b[0m inconsistent use of tabs and spaces in indentation\n"
     ]
    }
   ],
   "source": [
    "from src.IngestTifStack import ConfigParams\n",
    "\n",
    "ingest_conf = {\n",
    "    'collection': 'cell_detection',\n",
    "    'experiment': exp_name,\n",
    "    'channel': 'test_annotation_ignore',\n",
    "    'tif_stack': 'data/s3617/prediction_tifs/{}.tiff'.format(exp_name),\n",
    "    'type': 'annotation',\n",
    "    'new_channel': True,\n",
    "    'source_channel': 'raw_data',\n",
    "    'config': 'intern.cfg'\n",
    "}\n",
    "params = ConfigParams(ingest_conf)"
   ]
  },
  {
   "cell_type": "markdown",
   "metadata": {},
   "source": [
    "**Step 3**: Upload it to BOSS. The following code uploads the specified TIF task to the specified collection/experiment/channel as a new _annotation_ channel which is sourced to the **raw_data** channel."
   ]
  },
  {
   "cell_type": "code",
   "execution_count": null,
   "metadata": {},
   "outputs": [],
   "source": [
    "from src.IngestTifStack import IngestTifStack\n",
    "\n",
    "group_name = 'ndd17_claritrons' \n",
    "#optional parameter if you want to grant permissions to the new channel that you have created\n",
    "\n",
    "ingest = IngestTifStack(params)\n",
    "upload_link = ingest.start_upload(group_name=group_name)\n",
    "print('Results uploaded to {}'.format(upload_link))"
   ]
  },
  {
   "cell_type": "code",
   "execution_count": null,
   "metadata": {
    "collapsed": true
   },
   "outputs": [],
   "source": []
  }
 ],
 "metadata": {
  "kernelspec": {
   "display_name": "Python [conda env:py36]",
   "language": "python",
   "name": "conda-env-py36-py"
  },
  "language_info": {
   "codemirror_mode": {
    "name": "ipython",
    "version": 3
   },
   "file_extension": ".py",
   "mimetype": "text/x-python",
   "name": "python",
   "nbconvert_exporter": "python",
   "pygments_lexer": "ipython3",
   "version": "3.6.2"
  }
 },
 "nbformat": 4,
 "nbformat_minor": 2
}
