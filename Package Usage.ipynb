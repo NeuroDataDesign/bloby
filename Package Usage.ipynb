{
 "cells": [
  {
   "cell_type": "markdown",
   "metadata": {},
   "source": [
    "# Bloby Usage Example"
   ]
  },
  {
   "cell_type": "markdown",
   "metadata": {},
   "source": [
    "Bloby is an end-to-end package\n",
    "\n",
    "* get data from BOSS\n",
    "* detect blobs from a 3D TIF stack\n",
    "* quantitatively evaluate detection results and \n",
    "* upload the results to BOSS for qualitative visualization\n",
    "\n",
    "This Jupyter Notebook will explain how to use each section of this package's pipeline."
   ]
  },
  {
   "cell_type": "markdown",
   "metadata": {},
   "source": [
    "# 0. Get data from BOSS"
   ]
  },
  {
   "cell_type": "code",
   "execution_count": 9,
   "metadata": {},
   "outputs": [
    {
     "name": "stdout",
     "output_type": "stream",
     "text": [
      "Successfully saved image to data/s3617/tifs/cell_detection_0.tiff\n"
     ]
    }
   ],
   "source": [
    "%reload_ext autoreload\n",
    "%autoreload 2\n",
    "\n",
    "from src.BossDataFetcher import fetch_data_from_boss\n",
    "\n",
    "exp_name = 'cell_detection_0'\n",
    "input_tif_path = 'data/s3617/tifs/{}.tiff'.format(exp_name)\n",
    "\n",
    "boss_params = {\n",
    "    'config': 'intern.cfg',\n",
    "    'collection': 'ailey-dev',\n",
    "    'experiment': 's3617',\n",
    "    'channel': 'channel0',\n",
    "    'dtype': 'uint16',\n",
    "    'z_range': [620, 720],\n",
    "    'y_range': [6300, 6800],\n",
    "    'x_range': [6900, 7400],\n",
    "    'resolution': 0,\n",
    "    'filename': input_tif_path\n",
    "}\n",
    "\n",
    "fetch_data_from_boss(boss_params)"
   ]
  },
  {
   "cell_type": "markdown",
   "metadata": {},
   "source": [
    "## 1. Blob Detection"
   ]
  },
  {
   "cell_type": "markdown",
   "metadata": {},
   "source": [
    "The blob detection part of the pipeline uses Gaussian Mixture Model (GMM) clustering for thresholding, followed by morphological erosion and then finally finds centroids using connected components. The below snippet shows how to instantiate the _Bloby_ class and find blobs from a TIF stack. \n",
    "\n",
    "**Note**: Initial current implementation of the package asks the user for the number of components for GMM."
   ]
  },
  {
   "cell_type": "code",
   "execution_count": 10,
   "metadata": {},
   "outputs": [
    {
     "name": "stdout",
     "output_type": "stream",
     "text": [
      "Initialization 0\n",
      "  Iteration 0\t time lapse 22.21187s\t ll change inf\n",
      "Initialization converged: True\t time lapse 35.43065s\t ll -7.74446\n"
     ]
    },
    {
     "name": "stderr",
     "output_type": "stream",
     "text": [
      "/Users/srivathsa/anaconda/envs/py36/lib/python3.6/site-packages/skimage/transform/_warps.py:105: UserWarning: The default mode, 'constant', will be changed to 'reflect' in skimage 0.15.\n",
      "  warn(\"The default mode, 'constant', will be changed to 'reflect' in \"\n",
      "/Users/srivathsa/anaconda/envs/py36/lib/python3.6/site-packages/skimage/transform/_warps.py:110: UserWarning: Anti-aliasing will be enabled by default in skimage 0.15 to avoid aliasing artifacts when down-sampling images.\n",
      "  warn(\"Anti-aliasing will be enabled by default in skimage 0.15 to \"\n"
     ]
    }
   ],
   "source": [
    "from src.BlobDetector import BlobDetector\n",
    "from src import util\n",
    "\n",
    "exp_name = 'cell_detection_0'\n",
    "\n",
    "component_dict = {\n",
    "    'cell_detection_0': 4,\n",
    "    'cell_detection_1': 4,\n",
    "    'cell_detection_2': 4,\n",
    "    'cell_detection_3': 4,\n",
    "    'cell_detection_4': 8,\n",
    "    'cell_detection_5': 4,\n",
    "    'cell_detection_6': 4,\n",
    "    'cell_detection_7': 7,\n",
    "    'cell_detection_8': 5,\n",
    "    'cell_detection_9': 5 \n",
    "}\n",
    "\n",
    "output_csv_path = 'data/s3617/prediction_csv/{}.csv'.format(exp_name)\n",
    "\n",
    "detector = BlobDetector(input_tif_path, n_components=component_dict[exp_name])\n",
    "centroids = detector.get_blob_centroids()\n",
    "util.write_list_to_csv(centroids, output_csv_path) #writing the detection output to CSV in (z,y,x) format"
   ]
  },
  {
   "cell_type": "markdown",
   "metadata": {},
   "source": [
    "### Viewing the output CSV"
   ]
  },
  {
   "cell_type": "code",
   "execution_count": 12,
   "metadata": {},
   "outputs": [
    {
     "name": "stdout",
     "output_type": "stream",
     "text": [
      "[21.0, 135.0, 423.0]\n",
      "[27.0, 336.0, 474.0]\n",
      "[27.0, 405.0, 403.0]\n",
      "[32.0, 492.0, 357.0]\n",
      "[32.0, 423.0, 134.0]\n",
      "...\n"
     ]
    }
   ],
   "source": [
    "centroid_list = util.get_list_from_csv(output_csv_path)\n",
    "for centroid in centroid_list[:5]: #sample rows\n",
    "    print(centroid)\n",
    "print('...')"
   ]
  },
  {
   "cell_type": "markdown",
   "metadata": {},
   "source": [
    "## 2. Quantitative Evaluation - _BlobMetrics_ class"
   ]
  },
  {
   "cell_type": "markdown",
   "metadata": {},
   "source": [
    "The _BlobMetrics_ class which is a part of this package, can be used to evaluate Quantitatively the blob detection results, given a manually annotated ground truth CSV."
   ]
  },
  {
   "cell_type": "code",
   "execution_count": 13,
   "metadata": {},
   "outputs": [
    {
     "name": "stdout",
     "output_type": "stream",
     "text": [
      "Precision: 0.917\n",
      "Recall: 0.512\n"
     ]
    }
   ],
   "source": [
    "from src.BlobMetrics import BlobMetrics\n",
    "\n",
    "ground_truth_path = 'data/s3617/annotations/{}.csv'.format(exp_name)\n",
    "ground_truth = util.get_list_from_csv(ground_truth_path)\n",
    "\n",
    "metrics = BlobMetrics(ground_truth, centroids, euclidean_distance_threshold=12)\n",
    "print('Precision: {}\\nRecall: {}'.format(metrics.precision(), metrics.recall()))"
   ]
  },
  {
   "cell_type": "markdown",
   "metadata": {},
   "source": [
    "Apart from numerical metrics, we can evaluate the prediction based on the following two plots"
   ]
  },
  {
   "cell_type": "markdown",
   "metadata": {},
   "source": [
    "### Number of predictions per ground truth label"
   ]
  },
  {
   "cell_type": "code",
   "execution_count": 14,
   "metadata": {},
   "outputs": [
    {
     "data": {
      "image/png": "[encoded data removed]",
      "text/plain": [
       "<matplotlib.figure.Figure at 0x1171dd6d8>"
      ]
     },
     "metadata": {},
     "output_type": "display_data"
    }
   ],
   "source": [
    "metrics.plot_predictions_per_ground_truth()"
   ]
  },
  {
   "cell_type": "markdown",
   "metadata": {},
   "source": [
    "### Number of ground truth labels per prediction"
   ]
  },
  {
   "cell_type": "code",
   "execution_count": 15,
   "metadata": {},
   "outputs": [
    {
     "data": {
      "image/png": "[encoded data removed]",
      "text/plain": [
       "<matplotlib.figure.Figure at 0x11731fdd8>"
      ]
     },
     "metadata": {},
     "output_type": "display_data"
    }
   ],
   "source": [
    "metrics.plot_ground_truths_per_prediction()"
   ]
  },
  {
   "cell_type": "markdown",
   "metadata": {},
   "source": [
    "## 3. Qualitative evaluation - BOSS Upload"
   ]
  },
  {
   "cell_type": "markdown",
   "metadata": {},
   "source": [
    "In order to visualize the prediction results, the package supports BOSS upload"
   ]
  },
  {
   "cell_type": "markdown",
   "metadata": {},
   "source": [
    "**Step 1**: First we need to plot the prediction results in an empty TIF stack"
   ]
  },
  {
   "cell_type": "code",
   "execution_count": 16,
   "metadata": {
    "collapsed": true
   },
   "outputs": [],
   "source": [
    "output_tif_path = 'data/s3617/prediction_tifs/{}.tiff'.format(exp_name)\n",
    "util.plot_csv_on_tif(centroids, input_tif_path, output_tif_path)"
   ]
  },
  {
   "cell_type": "markdown",
   "metadata": {},
   "source": [
    "**Step 2**: Create config params - The BOSS upload needs certain parameters to be configured. It can be done as follows. _intern.cfg_ should be in the following format\n",
    "\n",
    "```\n",
    "protocol = https\n",
    "host = api.boss.neurodata.io\n",
    "token = <your_boss_api_token>\n",
    "```"
   ]
  },
  {
   "cell_type": "code",
   "execution_count": 7,
   "metadata": {
    "collapsed": true
   },
   "outputs": [],
   "source": [
    "from src.IngestTifStack import ConfigParams\n",
    "util.create_intern_config()\n",
    "\n",
    "ingest_conf = {\n",
    "    'collection': 'cell_detection',\n",
    "    'experiment': exp_name,\n",
    "    'channel': 'thresh_solve_gmm',\n",
    "    'tif_stack': 'data/s3617/prediction_tifs/{}.tiff'.format(exp_name),\n",
    "    'type': 'annotation',\n",
    "    'new_channel': True,\n",
    "    'source_channel': 'raw_data',\n",
    "    'config': 'intern.cfg'\n",
    "}\n",
    "params = ConfigParams(ingest_conf)"
   ]
  },
  {
   "cell_type": "markdown",
   "metadata": {},
   "source": [
    "**Step 3**: Upload it to BOSS. The following code uploads the specified TIF task to the specified collection/experiment/channel as a new _annotation_ channel which is sourced to the **raw_data** channel."
   ]
  },
  {
   "cell_type": "code",
   "execution_count": 8,
   "metadata": {},
   "outputs": [
    {
     "name": "stdout",
     "output_type": "stream",
     "text": [
      "Results uploaded to https://ndwebtools.neurodata.io/ndviz_url/cell_detection/cell_detection_9/\n"
     ]
    }
   ],
   "source": [
    "from src.IngestTifStack import IngestTifStack\n",
    "\n",
    "group_name = 'ndd17_claritrons'\n",
    "#optional parameter if you want to grant permissions to the new channel that you have created\n",
    "\n",
    "ingest = IngestTifStack(params)\n",
    "upload_link = ingest.start_upload(group_name=group_name)\n",
    "print('Results uploaded to {}'.format(upload_link))"
   ]
  },
  {
   "cell_type": "code",
   "execution_count": null,
   "metadata": {
    "collapsed": true
   },
   "outputs": [],
   "source": []
  }
 ],
 "metadata": {
  "kernelspec": {
   "display_name": "Python [conda env:py36]",
   "language": "python",
   "name": "conda-env-py36-py"
  },
  "language_info": {
   "codemirror_mode": {
    "name": "ipython",
    "version": 3
   },
   "file_extension": ".py",
   "mimetype": "text/x-python",
   "name": "python",
   "nbconvert_exporter": "python",
   "pygments_lexer": "ipython3",
   "version": "3.6.2"
  }
 },
 "nbformat": 4,
 "nbformat_minor": 2
}
