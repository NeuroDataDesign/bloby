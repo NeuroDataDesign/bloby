{
 "cells": [
  {
   "cell_type": "markdown",
   "metadata": {},
   "source": [
    "# Bloby Usage Example"
   ]
  },
  {
   "cell_type": "markdown",
   "metadata": {},
   "source": [
    "Bloby is an end-to-end package\n",
    "\n",
    "* get data from BOSS\n",
    "* detect blobs from a 3D TIF stack\n",
    "* quantitatively evaluate detection results and \n",
    "* upload the results to BOSS for qualitative visualization\n",
    "\n",
    "This Jupyter Notebook will explain how to use each section of this package's pipeline."
   ]
  },
  {
   "cell_type": "markdown",
   "metadata": {},
   "source": [
    "# 0. Get data from BOSS"
   ]
  },
  {
   "cell_type": "code",
   "execution_count": 1,
   "metadata": {},
   "outputs": [
    {
     "name": "stdout",
     "output_type": "stream",
     "text": [
      "Successfully saved image to data/s3617/tifs/cell_detection_0.tiff\n"
     ]
    }
   ],
   "source": [
    "%reload_ext autoreload\n",
    "%autoreload 2\n",
    "\n",
    "from src.BossDataFetcher import fetch_data_from_boss\n",
    "\n",
    "exp_name = 'cell_detection_0'\n",
    "input_tif_path = 'data/s3617/tifs/{}.tiff'.format(exp_name)\n",
    "\n",
    "boss_params = {\n",
    "    'config': 'intern.cfg',\n",
    "    'collection': 'ailey-dev',\n",
    "    'experiment': 's3617',\n",
    "    'channel': 'channel0',\n",
    "    'dtype': 'uint16',\n",
    "    'z_range': [620, 720],\n",
    "    'y_range': [6300, 6800],\n",
    "    'x_range': [6900, 7400],\n",
    "    'resolution': 0,\n",
    "    'filename': input_tif_path\n",
    "}\n",
    "\n",
    "fetch_data_from_boss(boss_params)"
   ]
  },
  {
   "cell_type": "markdown",
   "metadata": {},
   "source": [
    "## 1. Blob Detection"
   ]
  },
  {
   "cell_type": "markdown",
   "metadata": {},
   "source": [
    "The blob detection part of the pipeline uses Gaussian Mixture Model (GMM) clustering for thresholding, followed by morphological erosion and then finally finds centroids using connected components. The below snippet shows how to instantiate the _Bloby_ class and find blobs from a TIF stack. "
   ]
  },
  {
   "cell_type": "code",
   "execution_count": 3,
   "metadata": {},
   "outputs": [
    {
     "name": "stdout",
     "output_type": "stream",
     "text": [
      "Initialization 0\n",
      "  Iteration 0\t time lapse 13.04255s\t ll change inf\n",
      "Initialization converged: True\t time lapse 20.22453s\t ll -7.74442\n"
     ]
    }
   ],
   "source": [
    "from src.BlobDetector import BlobDetector\n",
    "from src import util\n",
    "\n",
    "exp_name = 'cell_detection_0'\n",
    "output_csv_path = 'data/s3617/prediction_csv/{}.csv'.format(exp_name)\n",
    "\n",
    "detector = BlobDetector(input_tif_path)\n",
    "centroids = detector.get_blob_centroids()\n",
    "util.write_list_to_csv(centroids, output_csv_path) #writing the detection output to CSV in (z,y,x) format"
   ]
  },
  {
   "cell_type": "markdown",
   "metadata": {},
   "source": [
    "### Viewing the output CSV"
   ]
  },
  {
   "cell_type": "code",
   "execution_count": 4,
   "metadata": {},
   "outputs": [
    {
     "name": "stdout",
     "output_type": "stream",
     "text": [
      "[6.0, 448.0, 498.0]\n",
      "[21.0, 135.0, 423.0]\n",
      "[26.0, 336.0, 474.0]\n",
      "[27.0, 405.0, 403.0]\n",
      "[28.0, 333.0, 319.0]\n",
      "...\n"
     ]
    }
   ],
   "source": [
    "centroid_list = util.get_list_from_csv(output_csv_path)\n",
    "for centroid in centroid_list[:5]: #sample rows\n",
    "    print(centroid)\n",
    "print('...')"
   ]
  },
  {
   "cell_type": "markdown",
   "metadata": {},
   "source": [
    "## 2. Quantitative Evaluation - _BlobMetrics_ class"
   ]
  },
  {
   "cell_type": "markdown",
   "metadata": {},
   "source": [
    "The _BlobMetrics_ class which is a part of this package, can be used to evaluate Quantitatively the blob detection results, given a manually annotated ground truth CSV."
   ]
  },
  {
   "cell_type": "code",
   "execution_count": 5,
   "metadata": {},
   "outputs": [
    {
     "name": "stdout",
     "output_type": "stream",
     "text": [
      "Precision: 0.862\n",
      "Recall: 0.758\n"
     ]
    }
   ],
   "source": [
    "from src.BlobMetrics import BlobMetrics\n",
    "\n",
    "ground_truth_path = 'data/s3617/annotations/{}.csv'.format(exp_name)\n",
    "ground_truth = util.get_list_from_csv(ground_truth_path)\n",
    "\n",
    "metrics = BlobMetrics(ground_truth, centroids)\n",
    "print('Precision: {}\\nRecall: {}'.format(metrics.precision(), metrics.recall()))"
   ]
  },
  {
   "cell_type": "markdown",
   "metadata": {},
   "source": [
    "Apart from numerical metrics, we can evaluate the prediction based on the following two plots"
   ]
  },
  {
   "cell_type": "markdown",
   "metadata": {},
   "source": [
    "### Number of predictions per ground truth label"
   ]
  },
  {
   "cell_type": "code",
   "execution_count": 6,
   "metadata": {},
   "outputs": [
    {
     "data": {
      "image/png": "[encoded data removed]",
      "text/plain": [
       "<matplotlib.figure.Figure at 0x7fe9491aae48>"
      ]
     },
     "metadata": {},
     "output_type": "display_data"
    }
   ],
   "source": [
    "metrics.plot_predictions_per_ground_truth()"
   ]
  },
  {
   "cell_type": "markdown",
   "metadata": {},
   "source": [
    "### Number of ground truth labels per prediction"
   ]
  },
  {
   "cell_type": "code",
   "execution_count": 7,
   "metadata": {},
   "outputs": [
    {
     "data": {
      "image/png": "[encoded data removed]",
      "text/plain": [
       "<matplotlib.figure.Figure at 0x7fe946e2bda0>"
      ]
     },
     "metadata": {},
     "output_type": "display_data"
    }
   ],
   "source": [
    "metrics.plot_ground_truths_per_prediction()"
   ]
  },
  {
   "cell_type": "markdown",
   "metadata": {},
   "source": [
    "## 3. Qualitative evaluation - BOSS Upload"
   ]
  },
  {
   "cell_type": "markdown",
   "metadata": {},
   "source": [
    "In order to visualize the prediction results, the package supports BOSS upload"
   ]
  },
  {
   "cell_type": "markdown",
   "metadata": {},
   "source": [
    "**Step 1**: First we need to plot the prediction results in an empty TIF stack"
   ]
  },
  {
   "cell_type": "code",
   "execution_count": 8,
   "metadata": {},
   "outputs": [],
   "source": [
    "output_tif_path = 'data/s3617/prediction_tifs/{}.tiff'.format(exp_name)\n",
    "util.plot_csv_on_tif(centroids, input_tif_path, output_tif_path)"
   ]
  },
  {
   "cell_type": "markdown",
   "metadata": {},
   "source": [
    "**Step 2**: Create config params - The BOSS upload needs certain parameters to be configured. It can be done as follows. _intern.cfg_ should be in the following format\n",
    "\n",
    "```\n",
    "protocol = https\n",
    "host = api.boss.neurodata.io\n",
    "token = <your_boss_api_token>\n",
    "```"
   ]
  },
  {
   "cell_type": "code",
   "execution_count": 9,
   "metadata": {},
   "outputs": [],
   "source": [
    "from src.IngestTifStack import ConfigParams\n",
    "util.create_intern_config()\n",
    "\n",
    "ingest_conf = {\n",
    "    'collection': 'cell_detection',\n",
    "    'experiment': exp_name,\n",
    "    'channel': 'sprint3',\n",
    "    'tif_stack': 'data/s3617/prediction_tifs/{}.tiff'.format(exp_name),\n",
    "    'type': 'annotation',\n",
    "    'new_channel': True,\n",
    "    'source_channel': 'raw_data',\n",
    "    'config': 'intern.cfg'\n",
    "}\n",
    "params = ConfigParams(ingest_conf)"
   ]
  },
  {
   "cell_type": "markdown",
   "metadata": {},
   "source": [
    "**Step 3**: Upload it to BOSS. The following code uploads the specified TIF task to the specified collection/experiment/channel as a new _annotation_ channel which is sourced to the **raw_data** channel."
   ]
  },
  {
   "cell_type": "code",
   "execution_count": 14,
   "metadata": {},
   "outputs": [
    {
     "name": "stdout",
     "output_type": "stream",
     "text": [
      "Results uploaded to https://ndwebtools.neurodata.io/ndviz_url/cell_detection/cell_detection_0/\n"
     ]
    }
   ],
   "source": [
    "from src.IngestTifStack import IngestTifStack\n",
    "\n",
    "group_name = 'ndd17_claritrons'\n",
    "#optional parameter if you want to grant permissions to the new channel that you have created\n",
    "\n",
    "ingest = IngestTifStack(params)\n",
    "upload_link = ingest.start_upload(group_name=group_name)\n",
    "print('Results uploaded to {}'.format(upload_link))"
   ]
  },
  {
   "cell_type": "code",
   "execution_count": null,
   "metadata": {
    "collapsed": true
   },
   "outputs": [],
   "source": []
  }
 ],
 "metadata": {
  "kernelspec": {
   "display_name": "Python 3",
   "language": "python",
   "name": "python3"
  },
  "language_info": {
   "codemirror_mode": {
    "name": "ipython",
    "version": 3
   },
   "file_extension": ".py",
   "mimetype": "text/x-python",
   "name": "python",
   "nbconvert_exporter": "python",
   "pygments_lexer": "ipython3",
   "version": "3.6.4"
  }
 },
 "nbformat": 4,
 "nbformat_minor": 2
}
